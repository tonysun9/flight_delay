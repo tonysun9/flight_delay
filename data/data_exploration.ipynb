{
 "cells": [
  {
   "cell_type": "code",
   "execution_count": 1,
   "metadata": {},
   "outputs": [
    {
     "name": "stdout",
     "output_type": "stream",
     "text": [
      "Average delay for SFO: 44.11707277452891 minutes\n",
      "Max delay for SFO: 179.66666666666666 minutes\n",
      "---\n",
      "Average delay for United Airlines at SFO: 46.511604361370715 minutes\n",
      "Max delay for United Airlines at SFO: 178.11666666666667 minutes\n"
     ]
    }
   ],
   "source": [
    "import pandas as pd\n",
    "\n",
    "# Load data\n",
    "df = pd.read_csv(\"flight_takeoff_data_next.csv\")\n",
    "\n",
    "# Convert Unix timestamp to datetime\n",
    "df['Expected Takeoff Time'] = pd.to_datetime(df['Expected Takeoff Time'], unit='s')\n",
    "df['Actual Takeoff Time'] = pd.to_datetime(df['Actual Takeoff Time'], unit='s')\n",
    "\n",
    "# Calculate delay time in minutes\n",
    "df['Delay'] = (df['Actual Takeoff Time'] - df['Expected Takeoff Time']).dt.total_seconds() / 60\n",
    "\n",
    "# Filter by airport and airline\n",
    "sfo_flights = df[df['Departure Airport'] == 'SFO']\n",
    "ua_sfo_flights = sfo_flights[sfo_flights['Airline'] == 'United Airlines']\n",
    "\n",
    "# Calculate average delay times\n",
    "average_sfo_delay = sfo_flights['Delay'].mean()\n",
    "max_sfo_delay = sfo_flights['Delay'].max()\n",
    "\n",
    "average_ua_sfo_delay = ua_sfo_flights['Delay'].mean()\n",
    "max_ua_sfo_delay = ua_sfo_flights['Delay'].max()\n",
    "\n",
    "print(f\"Average delay for SFO: {average_sfo_delay} minutes\")\n",
    "print(f\"Max delay for SFO: {max_sfo_delay} minutes\")\n",
    "print(\"---\")\n",
    "print(f\"Average delay for United Airlines at SFO: {average_ua_sfo_delay} minutes\")\n",
    "print(f\"Max delay for United Airlines at SFO: {max_ua_sfo_delay} minutes\")\n"
   ]
  },
  {
   "cell_type": "code",
   "execution_count": 4,
   "metadata": {},
   "outputs": [
    {
     "name": "stdout",
     "output_type": "stream",
     "text": [
      "Flight 1:  Flight Name                            UA755\n",
      "Expected Takeoff Time    2023-07-30 06:23:38\n",
      "Actual Takeoff Time      2023-07-30 06:52:40\n",
      "Delay Time                              1742\n",
      "Flight Time                             6419\n",
      "Airline                      United Airlines\n",
      "Departure Airport                        LAX\n",
      "Arrival Airport                          ORD\n",
      "Next Flight Info         UA481, 1690728767.0\n",
      "Delay                              29.033333\n",
      "Name: 1, dtype: object\n",
      "---\n",
      "Flight 2:     Flight Name Expected Takeoff Time Actual Takeoff Time  Delay Time  \\\n",
      "17       UA755   2023-07-30 10:45:26 2023-07-30 11:11:34        1568   \n",
      "\n",
      "    Flight Time          Airline Departure Airport Arrival Airport  \\\n",
      "17         6590  United Airlines               ORD             MKE   \n",
      "\n",
      "       Next Flight Info      Delay  \n",
      "17  UA720, 1690742565.0  26.133333  \n"
     ]
    }
   ],
   "source": [
    "for index, flight_LAX_ORD in df_LAX_ORD.iterrows():\n",
    "    # Convert the 'Actual Takeoff Time' and 'Flight Time' to integer\n",
    "    arrival_time_LAX_ORD = int(flight_LAX_ORD['Actual Takeoff Time'].timestamp()) + flight_LAX_ORD['Flight Time']\n",
    "    \n",
    "    # Get the earliest flight from ORD to MKE that departs after flight_LAX_ORD arrives\n",
    "    flight_ORD_MKE = df_ORD_MKE[df_ORD_MKE['Expected Takeoff Time'].apply(lambda x: x.timestamp()) > arrival_time_LAX_ORD].head(1)\n",
    "    \n",
    "    if not flight_ORD_MKE.empty:\n",
    "        print(\"Flight 1: \", flight_LAX_ORD)\n",
    "        print(\"---\")\n",
    "        print(\"Flight 2: \", flight_ORD_MKE)\n",
    "        break"
   ]
  },
  {
   "cell_type": "code",
   "execution_count": null,
   "metadata": {},
   "outputs": [],
   "source": []
  }
 ],
 "metadata": {
  "kernelspec": {
   "display_name": "Python 3",
   "language": "python",
   "name": "python3"
  },
  "language_info": {
   "codemirror_mode": {
    "name": "ipython",
    "version": 3
   },
   "file_extension": ".py",
   "mimetype": "text/x-python",
   "name": "python",
   "nbconvert_exporter": "python",
   "pygments_lexer": "ipython3",
   "version": "3.9.16"
  },
  "orig_nbformat": 4
 },
 "nbformat": 4,
 "nbformat_minor": 2
}
