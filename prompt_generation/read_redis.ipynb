{
 "cells": [
  {
   "cell_type": "code",
   "execution_count": 1,
   "metadata": {},
   "outputs": [],
   "source": [
    "from firewood.client import FeatureCatalogClient\n",
    "\n",
    "fcc = FeatureCatalogClient()"
   ]
  },
  {
   "cell_type": "code",
   "execution_count": 2,
   "metadata": {},
   "outputs": [
    {
     "data": {
      "text/plain": [
       "['average_delay_airport_airline_1h',\n",
       " 'max_delay_airport_airline_1h',\n",
       " 'min_delay_airport_airline_1h']"
      ]
     },
     "execution_count": 2,
     "metadata": {},
     "output_type": "execute_result"
    }
   ],
   "source": [
    "fcc.get_feature_names()"
   ]
  },
  {
   "cell_type": "code",
   "execution_count": 3,
   "metadata": {},
   "outputs": [
    {
     "data": {
      "text/plain": [
       "{'max_delay_airport_airline_1h': '10739',\n",
       " 'average_delay_airport_airline_1h': '6202.0',\n",
       " 'min_delay_airport_airline_1h': '1854'}"
      ]
     },
     "execution_count": 3,
     "metadata": {},
     "output_type": "execute_result"
    }
   ],
   "source": [
    "from firewood.core.feature_retrieval import get_online_features\n",
    "\n",
    "computed_feature_vals = get_online_features(\n",
    "    entity_keys={\"departure_airport\": \"SFO\", \"airline\": \"United Airlines\"},\n",
    "    feature_names=[\n",
    "        # \"average_delay_airport_1h\",\n",
    "        # \"max_delay_airport_1h\",\n",
    "        \"min_delay_airport_airline_1h\",\n",
    "        \"average_delay_airport_airline_1h\",\n",
    "        \"max_delay_airport_airline_1h\",\n",
    "    ],\n",
    ")\n",
    "\n",
    "computed_feature_vals"
   ]
  },
  {
   "cell_type": "code",
   "execution_count": 4,
   "metadata": {},
   "outputs": [],
   "source": [
    "def _convert_to_hours(time: str) -> str:\n",
    "    minutes = int(float(time) // 60)\n",
    "    hours = minutes // 60\n",
    "    minutes = minutes % 60\n",
    "    if hours > 0:\n",
    "        return '{} hours {} minutes'.format(hours, minutes)\n",
    "    else:\n",
    "        return '{} minutes'.format(minutes)\n",
    "\n",
    "def get_features() -> dict:\n",
    "    computed_feature_vals = get_online_features(\n",
    "        entity_keys={\"departure_airport\": \"SFO\", \"airline\": \"United Airlines\"},\n",
    "        feature_names=[\n",
    "            # \"average_delay_airport_1h\",\n",
    "            # \"max_delay_airport_1h\",\n",
    "            \"min_delay_airport_airline_1h\",\n",
    "            \"average_delay_airport_airline_1h\",\n",
    "            \"max_delay_airport_airline_1h\",\n",
    "        ],\n",
    "    )\n",
    "    hours_features = {\n",
    "        \"min_delay_airport_airline_1h\",\n",
    "        \"average_delay_airport_airline_1h\",\n",
    "        \"max_delay_airport_airline_1h\",\n",
    "    }\n",
    "    return {k: _convert_to_hours(v) if k in hours_features else v for k, v in computed_feature_vals.items()}"
   ]
  },
  {
   "cell_type": "code",
   "execution_count": 5,
   "metadata": {},
   "outputs": [
    {
     "data": {
      "text/plain": [
       "{'max_delay_airport_airline_1h': '2 hours 58 minutes',\n",
       " 'average_delay_airport_airline_1h': '1 hours 43 minutes',\n",
       " 'min_delay_airport_airline_1h': '30 minutes'}"
      ]
     },
     "execution_count": 5,
     "metadata": {},
     "output_type": "execute_result"
    }
   ],
   "source": [
    "get_features()"
   ]
  },
  {
   "cell_type": "code",
   "execution_count": 6,
   "metadata": {},
   "outputs": [
    {
     "name": "stdout",
     "output_type": "stream",
     "text": [
      "None\n"
     ]
    }
   ],
   "source": [
    "import redis\n",
    "\n",
    "# Create a connection to the Redis server\n",
    "r = redis.Redis(\n",
    "    port=6379,\n",
    ")\n",
    "\n",
    "value = r.get(\"UA920\")\n",
    "print(value)"
   ]
  },
  {
   "cell_type": "code",
   "execution_count": 7,
   "metadata": {},
   "outputs": [
    {
     "name": "stdout",
     "output_type": "stream",
     "text": [
      "b'7860,1690551845,1690559081,LAX,ORD,UA481, 1690574093.0'\n"
     ]
    }
   ],
   "source": [
    "value = r.get(\"UA720\")\n",
    "print(value)"
   ]
  },
  {
   "cell_type": "code",
   "execution_count": 8,
   "metadata": {},
   "outputs": [
    {
     "name": "stdout",
     "output_type": "stream",
     "text": [
      "b'0cc30fda356b94c2_LAX_Delta Air Lines': b'3683.0'\n",
      "b'0cc30fda356b94c2_MKE_United Airlines': b'6170.0'\n",
      "b'UA388': b'16726,1690557812,1690567757,MKE,LAX,UA481, 1690634735.0'\n",
      "b'454750aa631ad467_LAX_American Airlines': b'24'\n",
      "b'UA109': b'17447,1690550222,1690553012,ORD,MKE,UA720, 1690576235.0'\n",
      "b'5b38ce1c555bedd9_LAX_United Airlines': b'10631'\n",
      "b'5b38ce1c555bedd9_ORD_Delta Air Lines': b'1770'\n",
      "b'AA755': b'8220,1690570056,1690570496,MKE,SFO,AA214, 1690593705.0'\n",
      "b'DL526': b'12603,1690556447,1690567135,SFO,ORD,DL720, 1690571698.0'\n",
      "b'454750aa631ad467_ORD_Southwest Airlines': b'21'\n",
      "b'0cc30fda356b94c2_LAX_Southwest Airlines': b'4002.0'\n",
      "b'AA192': b'8704,1690571244,1690571343,LAX,SFO,AA920, 1690572626.0'\n",
      "b'AA214': b'20982,1690545449,1690548384,SFO,ORD,AA920, 1690589626.0'\n",
      "b'5b38ce1c555bedd9_LAX_Southwest Airlines': b'10774'\n",
      "b'454750aa631ad467_ORD_Delta Air Lines': b'1'\n",
      "b'DL720': b'14225,1690551252,1690551770,LAX,SFO,DL192, 1690583618.0'\n",
      "b'454750aa631ad467_SFO_Delta Air Lines': b'24'\n",
      "b'5b38ce1c555bedd9_MKE_Delta Air Lines': b'10493'\n",
      "b'5b38ce1c555bedd9_SFO_Southwest Airlines': b'10218'\n",
      "b'5b38ce1c555bedd9_ORD_American Airlines': b'1792'\n",
      "b'UA481': b'12028,1690553044,1690559791,MKE,LAX,UA388, 1690557812.0'\n",
      "b'AA920': b'10219,1690572626,1690574069,LAX,SFO,AA755, 1690598251.0'\n",
      "b'5b38ce1c555bedd9_LAX_American Airlines': b'10757'\n",
      "b'UA720': b'7860,1690551845,1690559081,LAX,ORD,UA481, 1690574093.0'\n",
      "b'5b38ce1c555bedd9_ORD_United Airlines': b'10700'\n",
      "b'0cc30fda356b94c2_ORD_United Airlines': b'6318.0'\n",
      "b'DL192': b'14802,1690561199,1690561826,MKE,LAX,DL526, 1690612767.0'\n",
      "b'0cc30fda356b94c2_SFO_American Airlines': b'3188.0'\n",
      "b'0cc30fda356b94c2_LAX_United Airlines': b'6202.0'\n",
      "b'454750aa631ad467_MKE_Southwest Airlines': b'2'\n",
      "b'0cc30fda356b94c2_MKE_Southwest Airlines': b'3385.0'\n",
      "b'454750aa631ad467_MKE_American Airlines': b'22'\n",
      "b'0cc30fda356b94c2_ORD_American Airlines': b'919.0'\n",
      "b'454750aa631ad467_SFO_United Airlines': b'1854'\n",
      "b'454750aa631ad467_MKE_United Airlines': b'1869'\n",
      "b'0cc30fda356b94c2_MKE_American Airlines': b'2630.0'\n",
      "b'0cc30fda356b94c2_MKE_Delta Air Lines': b'2428.0'\n",
      "b'454750aa631ad467_LAX_Southwest Airlines': b'76'\n",
      "b'454750aa631ad467_LAX_United Airlines': b'1880'\n",
      "b'5b38ce1c555bedd9_SFO_Delta Air Lines': b'10730'\n",
      "b'5b38ce1c555bedd9_ORD_Southwest Airlines': b'1799'\n",
      "b'454750aa631ad467_SFO_American Airlines': b'15'\n",
      "b'0cc30fda356b94c2_LAX_American Airlines': b'3653.0'\n",
      "b'454750aa631ad467_ORD_American Airlines': b'21'\n",
      "b'454750aa631ad467_ORD_United Airlines': b'1926'\n",
      "b'DL823': b'3603,1690568036,1690568817,MKE,SFO,DL720, 1690633154.0'\n",
      "b'0cc30fda356b94c2_SFO_Southwest Airlines': b'3192.0'\n",
      "b'0cc30fda356b94c2_SFO_United Airlines': b'6202.0'\n",
      "b'5b38ce1c555bedd9_MKE_Southwest Airlines': b'10760'\n",
      "b'5b38ce1c555bedd9_LAX_Delta Air Lines': b'10774'\n",
      "b'454750aa631ad467_MKE_Delta Air Lines': b'4'\n",
      "b'0cc30fda356b94c2_SFO_Delta Air Lines': b'3709.0'\n",
      "b'5b38ce1c555bedd9_SFO_United Airlines': b'10739'\n",
      "b'5b38ce1c555bedd9_SFO_American Airlines': b'10265'\n",
      "b'SW360': b'15641,1690555781,1690556927,LAX,SFO,SW109, 1690595651.0'\n",
      "b'454750aa631ad467_LAX_Delta Air Lines': b'23'\n",
      "b'5b38ce1c555bedd9_MKE_United Airlines': b'10780'\n",
      "b'SW109': b'15444,1690561814,1690562642,MKE,SFO,SW360, 1690630686.0'\n",
      "b'0cc30fda356b94c2_ORD_Southwest Airlines': b'805.0'\n",
      "b'0cc30fda356b94c2_ORD_Delta Air Lines': b'833.0'\n",
      "b'454750aa631ad467_SFO_Southwest Airlines': b'3'\n",
      "b'5b38ce1c555bedd9_MKE_American Airlines': b'10447'\n"
     ]
    }
   ],
   "source": [
    "# Get all keys\n",
    "keys = r.keys()\n",
    "\n",
    "# Print all key-value pairs\n",
    "for key in keys:\n",
    "    if not str.isalpha(key[0]):\n",
    "        continue\n",
    "    value = r.get(key)\n",
    "    print(f\"{key}: {value}\")"
   ]
  },
  {
   "cell_type": "code",
   "execution_count": null,
   "metadata": {},
   "outputs": [],
   "source": []
  }
 ],
 "metadata": {
  "kernelspec": {
   "display_name": "Python 3",
   "language": "python",
   "name": "python3"
  },
  "language_info": {
   "codemirror_mode": {
    "name": "ipython",
    "version": 3
   },
   "file_extension": ".py",
   "mimetype": "text/x-python",
   "name": "python",
   "nbconvert_exporter": "python",
   "pygments_lexer": "ipython3",
   "version": "3.9.16"
  },
  "orig_nbformat": 4
 },
 "nbformat": 4,
 "nbformat_minor": 2
}
