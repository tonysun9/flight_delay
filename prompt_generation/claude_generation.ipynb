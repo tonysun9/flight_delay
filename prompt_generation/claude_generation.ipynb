{
 "cells": [
  {
   "cell_type": "code",
   "execution_count": 1,
   "metadata": {},
   "outputs": [],
   "source": [
    "from dotenv import load_dotenv\n",
    "import os\n",
    "\n",
    "load_dotenv('anthropic.env')\n",
    "api_key = os.getenv('ANTHROPIC_API_KEY')"
   ]
  },
  {
   "cell_type": "code",
   "execution_count": 5,
   "metadata": {},
   "outputs": [],
   "source": [
    "from anthropic import Anthropic, HUMAN_PROMPT, AI_PROMPT"
   ]
  },
  {
   "cell_type": "code",
   "execution_count": 6,
   "metadata": {},
   "outputs": [],
   "source": [
    "airlines = {\n",
    "    \"United Airlines\": \"UA\",\n",
    "    \"American Airlines\": \"AA\",\n",
    "    \"Southwest Airlines\": \"SW\",\n",
    "    \"Delta Air Lines\": \"DL\"\n",
    "}"
   ]
  },
  {
   "cell_type": "code",
   "execution_count": 3,
   "metadata": {},
   "outputs": [
    {
     "name": "stdout",
     "output_type": "stream",
     "text": [
      " Based on the context provided, it seems flight UA920 has a chance of being delayed since there have been 5 United Airlines flights delayed at SFO in the past hour. The average United Airlines flight delay time is 3 hours 35 minutes, with a max of 2 hours 20 minutes. \n",
      "\n",
      "Since UA920 is scheduled to depart SFO at 3:25pm PT and the connecting flight AA360 departs ORD at 7:25pm PT, a delay of even just 2 hours could cause UA920 to miss the connection. I would recommend checking if it's possible to rebook onto the later AA720 flight from ORD to MKE at 10pm in case UA920 is delayed and you miss your original connection. That would give you a better chance of still making it to MKE tonight. Let me know if you need any help with rebooking or have any other questions!\n"
     ]
    }
   ],
   "source": [
    "anthropic = Anthropic(api_key=api_key)\n",
    "completion = anthropic.completions.create(\n",
    "    model=\"claude-2\",\n",
    "    max_tokens_to_sample=300,\n",
    "    prompt=f\"\"\"\n",
    "{HUMAN_PROMPT} You are a helpful AI assistant. Use the following pieces of context to answer the question at the end.\n",
    "If you don't know the answer, just say you don't know. DO NOT try to make up an answer.\n",
    "If the question is not related to the context, politely respond that you are tuned to only answer questions that are related to the context.\n",
    "\n",
    "Flight number: UA920\n",
    "UA920 flies from SFO to ORD at 3:25 pm\n",
    "UA920 is expected to be 4 hours long\n",
    "\n",
    "Connecting flight number: AA360\n",
    "AA360 flies from ORD to MKE at 8 pm\n",
    "Next flight: AA720\n",
    "Flies from ORD to MKE at 10 pm\n",
    "\n",
    "Number of flights delayed at SFO in the past hour: 20\n",
    "\n",
    "Number of United Airlines flights delayed at SFO in the past hour: 5\n",
    "\n",
    "Average United Airlines flight delay time in the past: 3 hours: 35 minutes\n",
    "\n",
    "Max United Airlines flight delay time in the 3 hours: 2 hours 20 minutes\n",
    "\n",
    "Scheduled departure time: 3:25 pm PT\n",
    "\n",
    "Connecting flight departure time: 7:25 PT\n",
    "\n",
    "Estimate whether or not the flight UA920 will be delayed or not. You are a conversational assistant. Give the user good advice if the user’s flight will be delayed. If it is delayed, give advice on what the user should do about their connecting flight. See if they can reschedule to MKE at 10 pm instead.\n",
    "{AI_PROMPT}\"\"\",\n",
    ")\n",
    "print(completion.completion)"
   ]
  },
  {
   "cell_type": "code",
   "execution_count": 4,
   "metadata": {},
   "outputs": [
    {
     "name": "stdout",
     "output_type": "stream",
     "text": [
      " Based on the context provided, it seems flight UA920 has a chance of being\n",
      "delayed since there have been 5 United Airlines flights delayed at SFO in the\n",
      "past hour. The average United Airlines flight delay time is 3 hours 35 minutes,\n",
      "with a max of 2 hours 20 minutes.   Since UA920 is scheduled to depart SFO at\n",
      "3:25pm PT and the connecting flight AA360 departs ORD at 7:25pm PT, a delay of\n",
      "even just 2 hours could cause UA920 to miss the connection. I would recommend\n",
      "checking if it's possible to rebook onto the later AA720 flight from ORD to MKE\n",
      "at 10pm in case UA920 is delayed and you miss your original connection. That\n",
      "would give you a better chance of still making it to MKE tonight. Let me know if\n",
      "you need any help with rebooking or have any other questions!\n"
     ]
    }
   ],
   "source": [
    "import textwrap\n",
    "\n",
    "print(\"\\n\".join(textwrap.wrap(completion.completion, width=80)))"
   ]
  },
  {
   "cell_type": "code",
   "execution_count": null,
   "metadata": {},
   "outputs": [],
   "source": []
  }
 ],
 "metadata": {
  "kernelspec": {
   "display_name": "Python 3",
   "language": "python",
   "name": "python3"
  },
  "language_info": {
   "codemirror_mode": {
    "name": "ipython",
    "version": 3
   },
   "file_extension": ".py",
   "mimetype": "text/x-python",
   "name": "python",
   "nbconvert_exporter": "python",
   "pygments_lexer": "ipython3",
   "version": "3.9.16"
  },
  "orig_nbformat": 4
 },
 "nbformat": 4,
 "nbformat_minor": 2
}
